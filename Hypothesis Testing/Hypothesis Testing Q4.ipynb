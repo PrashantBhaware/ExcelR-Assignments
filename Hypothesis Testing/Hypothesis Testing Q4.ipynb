{
 "cells": [
  {
   "cell_type": "markdown",
   "id": "c521b006",
   "metadata": {},
   "source": [
    "# Assignment-3-Q.4 (Hypothesis Testing)\n"
   ]
  },
  {
   "cell_type": "markdown",
   "id": "5d7f715a",
   "metadata": {},
   "source": [
    "Quetion:\n",
    "\n",
    "TeleCall uses 4 centers around the globe to process customer order forms. They audit a certain %  of the customer order forms. Any error in order form renders it defective and has to be reworked before processing.  The manager wants to check whether the defective %  varies by centre. Please analyze the data at 5% significance level and help the manager draw appropriate inferences\n"
   ]
  },
  {
   "cell_type": "markdown",
   "id": "391833a6",
   "metadata": {},
   "source": [
    "Solution:\n",
    "\n",
    "To determine Analysis of varaince between categorical samples or columns we need Chi2 Test.\n",
    "\n",
    "Assume Null Hypothesis as Ho:customer order forms defective % does not varies by centre(independence of categorical variables)\n",
    "\n",
    "Thus, Alternative hypothesis as Ha:customer order forms defective % varies by centre(Dependence of categorical variables)"
   ]
  },
  {
   "cell_type": "code",
   "execution_count": 2,
   "id": "5a61cfe6",
   "metadata": {},
   "outputs": [],
   "source": [
    "import pandas as pd\n",
    "import numpy as np\n",
    "from scipy import stats\n",
    "from scipy.stats import chi2_contingency"
   ]
  },
  {
   "cell_type": "code",
   "execution_count": 3,
   "id": "5c54b6f5",
   "metadata": {},
   "outputs": [
    {
     "data": {
      "text/html": [
       "<div>\n",
       "<style scoped>\n",
       "    .dataframe tbody tr th:only-of-type {\n",
       "        vertical-align: middle;\n",
       "    }\n",
       "\n",
       "    .dataframe tbody tr th {\n",
       "        vertical-align: top;\n",
       "    }\n",
       "\n",
       "    .dataframe thead th {\n",
       "        text-align: right;\n",
       "    }\n",
       "</style>\n",
       "<table border=\"1\" class=\"dataframe\">\n",
       "  <thead>\n",
       "    <tr style=\"text-align: right;\">\n",
       "      <th></th>\n",
       "      <th>Phillippines</th>\n",
       "      <th>Indonesia</th>\n",
       "      <th>Malta</th>\n",
       "      <th>India</th>\n",
       "    </tr>\n",
       "  </thead>\n",
       "  <tbody>\n",
       "    <tr>\n",
       "      <th>0</th>\n",
       "      <td>Error Free</td>\n",
       "      <td>Error Free</td>\n",
       "      <td>Defective</td>\n",
       "      <td>Error Free</td>\n",
       "    </tr>\n",
       "    <tr>\n",
       "      <th>1</th>\n",
       "      <td>Error Free</td>\n",
       "      <td>Error Free</td>\n",
       "      <td>Error Free</td>\n",
       "      <td>Defective</td>\n",
       "    </tr>\n",
       "    <tr>\n",
       "      <th>2</th>\n",
       "      <td>Error Free</td>\n",
       "      <td>Defective</td>\n",
       "      <td>Defective</td>\n",
       "      <td>Error Free</td>\n",
       "    </tr>\n",
       "    <tr>\n",
       "      <th>3</th>\n",
       "      <td>Error Free</td>\n",
       "      <td>Error Free</td>\n",
       "      <td>Error Free</td>\n",
       "      <td>Error Free</td>\n",
       "    </tr>\n",
       "    <tr>\n",
       "      <th>4</th>\n",
       "      <td>Error Free</td>\n",
       "      <td>Error Free</td>\n",
       "      <td>Defective</td>\n",
       "      <td>Error Free</td>\n",
       "    </tr>\n",
       "  </tbody>\n",
       "</table>\n",
       "</div>"
      ],
      "text/plain": [
       "  Phillippines   Indonesia       Malta       India\n",
       "0   Error Free  Error Free   Defective  Error Free\n",
       "1   Error Free  Error Free  Error Free   Defective\n",
       "2   Error Free   Defective   Defective  Error Free\n",
       "3   Error Free  Error Free  Error Free  Error Free\n",
       "4   Error Free  Error Free   Defective  Error Free"
      ]
     },
     "execution_count": 3,
     "metadata": {},
     "output_type": "execute_result"
    }
   ],
   "source": [
    "data=pd.read_csv('Costomer+OrderForm.csv')\n",
    "data.head()"
   ]
  },
  {
   "cell_type": "code",
   "execution_count": 6,
   "id": "a6f92c1b",
   "metadata": {},
   "outputs": [
    {
     "name": "stdout",
     "output_type": "stream",
     "text": [
      "<class 'pandas.core.frame.DataFrame'>\n",
      "RangeIndex: 300 entries, 0 to 299\n",
      "Data columns (total 4 columns):\n",
      " #   Column        Non-Null Count  Dtype \n",
      "---  ------        --------------  ----- \n",
      " 0   Phillippines  300 non-null    object\n",
      " 1   Indonesia     300 non-null    object\n",
      " 2   Malta         300 non-null    object\n",
      " 3   India         300 non-null    object\n",
      "dtypes: object(4)\n",
      "memory usage: 9.5+ KB\n"
     ]
    }
   ],
   "source": [
    "data.info()"
   ]
  },
  {
   "cell_type": "code",
   "execution_count": 5,
   "id": "b896e828",
   "metadata": {},
   "outputs": [
    {
     "data": {
      "text/plain": [
       "(300, 4)"
      ]
     },
     "execution_count": 5,
     "metadata": {},
     "output_type": "execute_result"
    }
   ],
   "source": [
    "data.shape"
   ]
  },
  {
   "cell_type": "code",
   "execution_count": 13,
   "id": "3eb3dfb6",
   "metadata": {},
   "outputs": [
    {
     "data": {
      "text/plain": [
       "Phillippines  Indonesia   Malta       India     \n",
       "Error Free    Error Free  Error Free  Error Free    206\n",
       "Defective     Error Free  Error Free  Error Free     21\n",
       "Error Free    Defective   Error Free  Error Free     20\n",
       "              Error Free  Defective   Error Free     18\n",
       "                          Error Free  Defective      16\n",
       "              Defective   Defective   Error Free      9\n",
       "Defective     Error Free  Defective   Error Free      4\n",
       "              Defective   Error Free  Error Free      2\n",
       "              Error Free  Error Free  Defective       2\n",
       "Error Free    Defective   Error Free  Defective       2\n",
       "dtype: int64"
      ]
     },
     "execution_count": 13,
     "metadata": {},
     "output_type": "execute_result"
    }
   ],
   "source": [
    "data.value_counts()"
   ]
  },
  {
   "cell_type": "code",
   "execution_count": 19,
   "id": "cdbe39b8",
   "metadata": {},
   "outputs": [
    {
     "data": {
      "text/plain": [
       "Phillippines\n",
       "Error Free      271\n",
       "Defective        29\n",
       "dtype: int64"
      ]
     },
     "execution_count": 19,
     "metadata": {},
     "output_type": "execute_result"
    }
   ],
   "source": [
    "data[['Phillippines']].value_counts()"
   ]
  },
  {
   "cell_type": "code",
   "execution_count": 20,
   "id": "aea339db",
   "metadata": {},
   "outputs": [
    {
     "data": {
      "text/plain": [
       "Indonesia \n",
       "Error Free    267\n",
       "Defective      33\n",
       "dtype: int64"
      ]
     },
     "execution_count": 20,
     "metadata": {},
     "output_type": "execute_result"
    }
   ],
   "source": [
    "data[['Indonesia']].value_counts()"
   ]
  },
  {
   "cell_type": "code",
   "execution_count": 24,
   "id": "1943bb1b",
   "metadata": {},
   "outputs": [
    {
     "data": {
      "text/plain": [
       "Malta     \n",
       "Error Free    269\n",
       "Defective      31\n",
       "dtype: int64"
      ]
     },
     "execution_count": 24,
     "metadata": {},
     "output_type": "execute_result"
    }
   ],
   "source": [
    "data[['Malta']].value_counts()"
   ]
  },
  {
   "cell_type": "code",
   "execution_count": 22,
   "id": "81e79b01",
   "metadata": {},
   "outputs": [
    {
     "data": {
      "text/plain": [
       "India     \n",
       "Error Free    280\n",
       "Defective      20\n",
       "dtype: int64"
      ]
     },
     "execution_count": 22,
     "metadata": {},
     "output_type": "execute_result"
    }
   ],
   "source": [
    "data[['India']].value_counts()"
   ]
  },
  {
   "cell_type": "code",
   "execution_count": 27,
   "id": "285ee3b8",
   "metadata": {},
   "outputs": [
    {
     "data": {
      "text/plain": [
       "array([[271, 267, 269, 280],\n",
       "       [ 29,  33,  31,  20]])"
      ]
     },
     "execution_count": 27,
     "metadata": {},
     "output_type": "execute_result"
    }
   ],
   "source": [
    "observed_values=np.array([[271,267,269,280],[29,33,31,20]])\n",
    "observed_values"
   ]
  },
  {
   "cell_type": "code",
   "execution_count": 30,
   "id": "e9d3bf2b",
   "metadata": {},
   "outputs": [
    {
     "data": {
      "text/plain": [
       "(3.858960685820355,\n",
       " 0.2771020991233135,\n",
       " 3,\n",
       " array([[271.75, 271.75, 271.75, 271.75],\n",
       "        [ 28.25,  28.25,  28.25,  28.25]]))"
      ]
     },
     "execution_count": 30,
     "metadata": {},
     "output_type": "execute_result"
    }
   ],
   "source": [
    "# chi2 contingency independence test\n",
    "chi2_contingency(observed_values) #  Chi2ContingencyResult(statistic, pvalue, dof, expctd_freq)"
   ]
  },
  {
   "cell_type": "code",
   "execution_count": 31,
   "id": "23d7080a",
   "metadata": {},
   "outputs": [],
   "source": [
    "stats, p_value, dof, expected_freq=chi2_contingency(observed_values)"
   ]
  },
  {
   "cell_type": "code",
   "execution_count": 33,
   "id": "b94459f6",
   "metadata": {},
   "outputs": [
    {
     "name": "stdout",
     "output_type": "stream",
     "text": [
      "0.2771020991233135\n"
     ]
    }
   ],
   "source": [
    "print(p_value)"
   ]
  },
  {
   "cell_type": "code",
   "execution_count": 34,
   "id": "89e45921",
   "metadata": {},
   "outputs": [
    {
     "name": "stdout",
     "output_type": "stream",
     "text": [
      "we failed to reject null hypothesis\n"
     ]
    }
   ],
   "source": [
    "# compare p_value with α = 0.05 (At 5% significance level)\n",
    "if p_value < 0.05 :    # alpha value is 0.05 or 5%\n",
    "    print(\" we reject null hypothesis\")\n",
    "else:\n",
    "    print(\"we failed to reject null hypothesis\")"
   ]
  },
  {
   "cell_type": "markdown",
   "id": "26b1bff8",
   "metadata": {},
   "source": [
    "Inference:\n",
    "we accept null hypothesis that costomer order forms defective % does not varies by centre(independence of categorical variables)"
   ]
  },
  {
   "cell_type": "code",
   "execution_count": null,
   "id": "43ae22ae",
   "metadata": {},
   "outputs": [],
   "source": []
  }
 ],
 "metadata": {
  "kernelspec": {
   "display_name": "Python 3 (ipykernel)",
   "language": "python",
   "name": "python3"
  },
  "language_info": {
   "codemirror_mode": {
    "name": "ipython",
    "version": 3
   },
   "file_extension": ".py",
   "mimetype": "text/x-python",
   "name": "python",
   "nbconvert_exporter": "python",
   "pygments_lexer": "ipython3",
   "version": "3.9.13"
  }
 },
 "nbformat": 4,
 "nbformat_minor": 5
}
